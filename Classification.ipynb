{
 "cells": [
  {
   "cell_type": "code",
   "execution_count": 9,
   "metadata": {},
   "outputs": [],
   "source": [
    "import pandas as pd\n",
    "from sklearn.linear_model import LogisticRegression\n",
    "import numpy as np\n",
    "import time\n",
    "from sklearn.svm import SVC\n",
    "from sklearn import metrics\n",
    "from sklearn.metrics import classification_report\n",
    "import matplotlib.pyplot as plt\n",
    "from sklearn.linear_model import Perceptron\n",
    "from sklearn.metrics import mean_squared_error\n",
    "from sklearn.metrics import confusion_matrix\n",
    "from sklearn.model_selection import train_test_split\n",
    "import seaborn as sns"
   ]
  },
  {
   "cell_type": "code",
   "execution_count": 10,
   "metadata": {},
   "outputs": [],
   "source": [
    "dataframe = pd.read_csv(\"dataset/cleaned_data.csv\", encoding = \"latin-1\")"
   ]
  },
  {
   "cell_type": "code",
   "execution_count": 11,
   "metadata": {},
   "outputs": [],
   "source": [
    "columns = dataframe.columns"
   ]
  },
  {
   "cell_type": "code",
   "execution_count": 12,
   "metadata": {},
   "outputs": [
    {
     "data": {
      "text/plain": [
       "Index(['Unnamed: 0', '_unit_id', '_golden', '_unit_state',\n",
       "       '_trusted_judgments', 'verify_relationship',\n",
       "       'verify_relationship:confidence', 'chemical_id', 'chemical_name',\n",
       "       'disease_id', 'disease_name', 'form_sentence', 'pmid',\n",
       "       'relation_pair_id', 'uniq_id'],\n",
       "      dtype='object')"
      ]
     },
     "execution_count": 12,
     "metadata": {},
     "output_type": "execute_result"
    }
   ],
   "source": [
    "columns"
   ]
  },
  {
   "cell_type": "code",
   "execution_count": 13,
   "metadata": {},
   "outputs": [],
   "source": [
    "X = dataframe.loc[:,columns != \"verify_relationship\"]\n",
    "Y = dataframe[\"verify_relationship\"]\n",
    "\n",
    "X_train,X_test,Y_train,Y_test = train_test_split(X,Y,test_size=0.2)"
   ]
  },
  {
   "cell_type": "code",
   "execution_count": 14,
   "metadata": {},
   "outputs": [],
   "source": [
    "#confusion matrix heatmap\n",
    "\n",
    "def heat_map(conf_matrix):\n",
    "    class_names=[0,1] # name  of classes\n",
    "    fig, ax = plt.subplots()\n",
    "    tick_marks = np.arange(len(class_names))\n",
    "    plt.xticks(tick_marks, class_names)\n",
    "    plt.yticks(tick_marks, class_names)\n",
    "        # create heatmap\n",
    "    sns.heatmap(pd.DataFrame(conf_matrix), annot=True, cmap=\"YlGnBu\" ,fmt='g')\n",
    "    ax.xaxis.set_label_position(\"top\")\n",
    "    plt.tight_layout()\n",
    "    plt.title('Confusion matrix', y=1.1)\n",
    "    plt.ylabel('Actual label')\n",
    "    plt.xlabel('Predicted label')"
   ]
  },
  {
   "cell_type": "code",
   "execution_count": 15,
   "metadata": {},
   "outputs": [],
   "source": [
    "def conf_matrix(Y_test,y_pred):\n",
    "    return metrics.confusion_matrix(Y_test,y_pred)"
   ]
  },
  {
   "cell_type": "code",
   "execution_count": 16,
   "metadata": {},
   "outputs": [],
   "source": [
    "def logistic_regression():\n",
    "    logreg = LogisticRegression()\n",
    "    logreg.fit(X_train,Y_train)\n",
    "    y_pred = logreg.predict(X_test)\n",
    "    print(\"The score of model :\", logreg.score(X_test,Y_test))\n",
    "    start = time.time()\n",
    "    logreg.fit(X_train,Y_train)\n",
    "    stop = time.time()\n",
    "    print(\"Training Time = \", stop - start)\n",
    "    print(conf_matrix(Y_test,y_pred))\n",
    "    heat_map(conf_matrix(Y_test,y_pred))\n",
    "    print(\"Accuracy:\",metrics.accuracy_score(Y_test, y_pred))\n",
    "\n",
    "    print(\"Precision:\",metrics.precision_score(Y_test, y_pred))\n",
    "\n",
    "    print(\"Recall:\",metrics.recall_score(Y_test, y_pred))\n",
    "    \n",
    "    print(classification_report(Y_test, y_pred))\n",
    "\n",
    "\n"
   ]
  },
  {
   "cell_type": "code",
   "execution_count": 18,
   "metadata": {},
   "outputs": [
    {
     "name": "stdout",
     "output_type": "stream",
     "text": [
      "The score of model : 0.8390201224846894\n",
      "Training Time =  0.030165910720825195\n",
      "[[ 17 168]\n",
      " [ 16 942]]\n",
      "Accuracy: 0.8390201224846894\n",
      "Precision: 0.8486486486486486\n",
      "Recall: 0.9832985386221295\n",
      "              precision    recall  f1-score   support\n",
      "\n",
      "           0       0.52      0.09      0.16       185\n",
      "           1       0.85      0.98      0.91       958\n",
      "\n",
      "    accuracy                           0.84      1143\n",
      "   macro avg       0.68      0.54      0.53      1143\n",
      "weighted avg       0.79      0.84      0.79      1143\n",
      "\n"
     ]
    },
    {
     "data": {
      "image/png": "[encoded data removed]",
      "text/plain": [
       "<Figure size 432x288 with 2 Axes>"
      ]
     },
     "metadata": {
      "needs_background": "light"
     },
     "output_type": "display_data"
    }
   ],
   "source": [
    "logistic_regression()"
   ]
  },
  {
   "cell_type": "code",
   "execution_count": null,
   "metadata": {},
   "outputs": [],
   "source": []
  },
  {
   "cell_type": "code",
   "execution_count": null,
   "metadata": {},
   "outputs": [],
   "source": []
  }
 ],
 "metadata": {
  "kernelspec": {
   "display_name": "Python 3",
   "language": "python",
   "name": "python3"
  },
  "language_info": {
   "codemirror_mode": {
    "name": "ipython",
    "version": 3
   },
   "file_extension": ".py",
   "mimetype": "text/x-python",
   "name": "python",
   "nbconvert_exporter": "python",
   "pygments_lexer": "ipython3",
   "version": "3.7.3"
  }
 },
 "nbformat": 4,
 "nbformat_minor": 4
}
